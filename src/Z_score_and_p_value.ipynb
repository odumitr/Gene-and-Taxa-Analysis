{
 "cells": [
  {
   "cell_type": "code",
   "execution_count": 105,
   "metadata": {},
   "outputs": [],
   "source": [
    "import matplotlib.pyplot as plt\n",
    "import pandas as pd\n",
    "import statsmodels.formula.api as smf\n",
    "import numpy as np\n",
    "import scipy.stats as ss\n",
    "import statsmodels.api as sm\n",
    "from mpmath import mp\n",
    "import math"
   ]
  },
  {
   "cell_type": "markdown",
   "metadata": {},
   "source": [
    "# Load Data\n",
    "gene, taxon profile sizes and the similarity scores for eah pair"
   ]
  },
  {
   "cell_type": "code",
   "execution_count": 106,
   "metadata": {},
   "outputs": [],
   "source": [
    "def load_data():\n",
    "\t\n",
    "    inFile = open(\"../../data/Scores_Sizes.txt\")\n",
    "\n",
    "    scores = []\n",
    "    gene_profile_sizes = []\n",
    "    taxon_profile_sizes = []\n",
    "\n",
    "    for line in inFile:\n",
    "        if \"Score\" not in line:\n",
    "            data = line.strip().split(\"\\t\")\n",
    "            score = float(data[6])\n",
    "            scores.append(score)\n",
    "            gene_profile_sizes.append(int(data[1]))\n",
    "            taxon_profile_sizes.append(int(data[4]))\n",
    "    inFile.close()\n",
    "    \n",
    "    return scores, gene_profile_sizes, taxon_profile_sizes"
   ]
  },
  {
   "cell_type": "code",
   "execution_count": 107,
   "metadata": {},
   "outputs": [],
   "source": [
    "scores, gene_profile_sizes, taxon_profile_sizes = load_data()\n",
    "gene_taxon_scores = pd.DataFrame(\n",
    "    {\n",
    "        'gene': gene_profile_sizes,\n",
    "        'taxon': taxon_profile_sizes,\n",
    "        'scores': scores\n",
    "    })"
   ]
  },
  {
   "cell_type": "markdown",
   "metadata": {},
   "source": [
    "# Generate average similarity scores\n",
    "\n",
    "We will compute the average score for each pair (gene_size, taxon_size), in order to manipulate data easily and have clearer view of how the data looks, since multiple pairs genes and taxons with same profile sizes can have same similarity scores."
   ]
  },
  {
   "cell_type": "code",
   "execution_count": 108,
   "metadata": {},
   "outputs": [],
   "source": [
    "def generate_avg_scores(gene_taxon_scores):\n",
    "\n",
    "    if len(gene_taxon_scores) == 0:\n",
    "        print('missing values for scores/taxon profile sizes/gene profile sizes')\n",
    "        return\n",
    "\n",
    "    gene_taxon_scores = gene_taxon_scores.groupby(['taxon','gene'], as_index=False)['scores'].mean() \n",
    "    gene_taxon_scores.rename(columns={'scores':'avg_scores'}, inplace=True)    \n",
    "    print(gene_taxon_scores.head())\n",
    "    return gene_taxon_scores"
   ]
  },
  {
   "cell_type": "code",
   "execution_count": 109,
   "metadata": {},
   "outputs": [
    {
     "name": "stdout",
     "output_type": "stream",
     "text": [
      "   taxon  gene  avg_scores\n",
      "0      2     2    0.053801\n",
      "1      2     3    0.109874\n",
      "2      2     4    0.106818\n",
      "3      2     5    0.124769\n",
      "4      2     6    0.138121\n"
     ]
    }
   ],
   "source": [
    "gene_taxon_avg_scores = generate_avg_scores(gene_taxon_scores)"
   ]
  },
  {
   "cell_type": "markdown",
   "metadata": {},
   "source": [
    "# Data Transformation\n",
    "\n",
    "Log Transformations\n",
    "We will obtain the log for taxon/gene profile sizes, similarity score. These values will be used later in multiple linear regressions. "
   ]
  },
  {
   "cell_type": "markdown",
   "metadata": {},
   "source": [
    "## Log Transformation\n",
    "\n",
    "Gene Logarithm, Taxon Logarithm, Average scores"
   ]
  },
  {
   "cell_type": "code",
   "execution_count": 110,
   "metadata": {},
   "outputs": [
    {
     "name": "stdout",
     "output_type": "stream",
     "text": [
      "    geneLog  taxonLog  avg_scoresLog\n",
      "0  0.693147  0.693147      -2.922465\n",
      "1  1.098612  0.693147      -2.208417\n",
      "2  1.386294  0.693147      -2.236628\n",
      "3  1.609438  0.693147      -2.081288\n",
      "4  1.791759  0.693147      -1.979628\n"
     ]
    }
   ],
   "source": [
    "geneLog = gene_taxon_avg_scores['gene'].apply(np.log)\n",
    "taxonLog = gene_taxon_avg_scores['taxon'].apply(np.log)\n",
    "avg_scoresLog = gene_taxon_avg_scores['avg_scores'].apply(np.log)\n",
    "\n",
    "geneLog_taxonLog_avg_scoresLog = pd.DataFrame(\n",
    "    {\n",
    "        'geneLog': geneLog,\n",
    "        'taxonLog': taxonLog,\n",
    "        'avg_scoresLog': avg_scoresLog\n",
    "    })\n",
    "print(geneLog_taxonLog_avg_scoresLog.head())"
   ]
  },
  {
   "cell_type": "markdown",
   "metadata": {},
   "source": [
    "Build a histogram with the avg scores values"
   ]
  },
  {
   "cell_type": "code",
   "execution_count": 111,
   "metadata": {},
   "outputs": [
    {
     "data": {
      "image/png": "[encoded data removed]",
      "text/plain": [
       "<Figure size 432x288 with 1 Axes>"
      ]
     },
     "metadata": {},
     "output_type": "display_data"
    }
   ],
   "source": [
    "plt.hist(avg_scoresLog, bins=4)\n",
    "plt.xlabel('Avg Scores Log')\n",
    "plt.ylabel('Frequency')\n",
    "plt.show()"
   ]
  },
  {
   "cell_type": "markdown",
   "metadata": {},
   "source": [
    "Let's see the line of best fit"
   ]
  },
  {
   "cell_type": "code",
   "execution_count": null,
   "metadata": {},
   "outputs": [],
   "source": [
    "z = np.polyfit([geneLog, taxonLog], avg_scoresLog, 1)\n",
    "p = np.poly1d(z)\n",
    "intercept = coeffs[-1]\n",
    "slope = coeffs[-2]\n",
    "power = coeffs[0] if order == 2 else 0\n",
    "\n",
    "    minxd = np.min(xd)\n",
    "    maxxd = np.max(xd)\n",
    "\n",
    "    xl = np.array([minxd, maxxd])\n",
    "    yl = power * xl ** 2 + slope * xl + intercept\n",
    "\n",
    "    #Plot trendline\n",
    "    plt.plot(xl, yl, c, alpha=alpha)\n",
    ">>> plt.show()"
   ]
  },
  {
   "cell_type": "code",
   "execution_count": 112,
   "metadata": {},
   "outputs": [],
   "source": [
    "def compute_std_dev():\n",
    "    \n",
    "    std_dev = 0\n",
    "    mean = avg_scoresLog.mean()\n",
    "    for score in avg_scoresLog:\n",
    "        input = score-mean\n",
    "        std_dev = std_dev + math.pow(input, 2)\n",
    "    \n",
    "    std_dev = std_dev/len(avg_scoresLog)\n",
    "    std_dev = math.sqrt(std_dev)\n",
    "    return std_dev    "
   ]
  },
  {
   "cell_type": "code",
   "execution_count": 113,
   "metadata": {},
   "outputs": [],
   "source": [
    "def compute_z_values(const, coeff_taxonLog, coeff_geneLog, std_dev):\n",
    "            \n",
    "    z_values = []\n",
    "    for i in range(len(avg_scoresLog)):\n",
    "        observed_value = avg_scoresLog[i]\n",
    "        predicted_value = const + coeff_taxonLog*taxonLog[i] + coeff_geneLog*geneLog[i]\n",
    "        z_value = (observed_value - predicted_value)/std_dev\n",
    "        z_values.append(z_value)\n",
    "        \n",
    "    return z_values"
   ]
  },
  {
   "cell_type": "markdown",
   "metadata": {},
   "source": [
    "These are the equation's coefficients obtained when we used WLS multiple linear regression on log gene size, log taxon size, log avg scores."
   ]
  },
  {
   "cell_type": "code",
   "execution_count": 114,
   "metadata": {},
   "outputs": [],
   "source": [
    "const = -2.903170\n",
    "coeff_taxonLog = 0.252263\n",
    "coeff_geneLog = 0.378430"
   ]
  },
  {
   "cell_type": "markdown",
   "metadata": {},
   "source": [
    "We will compute p values for all the average scores. In order to do that, we will have to compute first the Z values for all avg scores.\n",
    "\n",
    "## Computing Z values"
   ]
  },
  {
   "cell_type": "code",
   "execution_count": 115,
   "metadata": {},
   "outputs": [
    {
     "name": "stdout",
     "output_type": "stream",
     "text": [
      "-1.1464506607414986\n",
      "0.26158359829002203\n",
      "-0.08270465606688727\n",
      "0.09535790522648702\n",
      "0.1773980045008009\n"
     ]
    }
   ],
   "source": [
    "std_deviation = compute_std_dev()\n",
    "z_values = compute_z_values(const, coeff_taxonLog, coeff_geneLog, std_deviation)\n",
    "for i in range(5):\n",
    "    print(z_values[i]) "
   ]
  },
  {
   "cell_type": "markdown",
   "metadata": {},
   "source": [
    "## Computing p values"
   ]
  },
  {
   "cell_type": "code",
   "execution_count": 116,
   "metadata": {},
   "outputs": [
    {
     "name": "stdout",
     "output_type": "stream",
     "text": [
      "0.577215664901533\n",
      "0.913087000525771\n",
      "0.3306411699353998\n",
      "0.4643575491075679\n",
      "0.3915406954979779\n",
      "0.3605873938399269\n"
     ]
    }
   ],
   "source": [
    "p_values = []\n",
    "for z_value in z_values:    \n",
    "    no = -math.e **(-z_value*math.pi/math.sqrt(6)-mp.euler)\n",
    "    p_value = 1 - math.exp(no)\n",
    "    p_values.append(p_value)\n",
    "\n",
    "for i in range(5):\n",
    "    print(p_values[i]) "
   ]
  }
 ],
 "metadata": {
  "kernelspec": {
   "display_name": "Python 3",
   "language": "python",
   "name": "python3"
  },
  "language_info": {
   "codemirror_mode": {
    "name": "ipython",
    "version": 3
   },
   "file_extension": ".py",
   "mimetype": "text/x-python",
   "name": "python",
   "nbconvert_exporter": "python",
   "pygments_lexer": "ipython3",
   "version": "3.6.5"
  }
 },
 "nbformat": 4,
 "nbformat_minor": 2
}
