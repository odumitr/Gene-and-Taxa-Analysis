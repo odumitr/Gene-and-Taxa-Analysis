{
 "cells": [
  {
   "cell_type": "code",
   "execution_count": 1,
   "metadata": {},
   "outputs": [],
   "source": [
    "import matplotlib.pyplot as plt\n",
    "import pandas as pd\n",
    "import statsmodels.formula.api as smf\n",
    "import numpy as np\n",
    "import scipy.stats as ss\n",
    "import statsmodels.api as sm\n",
    "from mpmath import mp\n",
    "import math\n",
    "import csv"
   ]
  },
  {
   "cell_type": "markdown",
   "metadata": {},
   "source": [
    "# Load Data\n",
    "Load real data and determine profile sizes for genes and taxon; Also because boxcox transformation will be applied, filter out lines where gene/taxon size is zero OR score is zero."
   ]
  },
  {
   "cell_type": "code",
   "execution_count": 6,
   "metadata": {},
   "outputs": [],
   "source": [
    "original_data = pd.read_csv('../../data/real_data_experiment/experiment/results/E_bp_sym_pic_resnik_Results.tsv',\\\n",
    "                           sep='\\t', header=0, low_memory=True, memory_map=True)\n",
    "gene_taxon_scores = original_data.copy()\n",
    "\n",
    "#keep only columns of interest for current code\n",
    "# gene_taxon_scores.drop(columns=['Query Profile', 'Query Name', 'Corpus Profile',\n",
    "#                                 'Corpus Profile Name', 'URI'], inplace=True)\n",
    "# gene_taxon_scores.rename(columns={'Query Profile Size':'taxon'}, inplace=True)\n",
    "# gene_taxon_scores.rename(columns={'Corpus Profile Size':'gene'}, inplace=True)\n",
    "# gene_taxon_scores.rename(columns={'Overall Similarity':'scores'}, inplace=True)"
   ]
  },
  {
   "cell_type": "markdown",
   "metadata": {},
   "source": [
    "Obtain the profile sizes for genes and phenotypes. Then persist values to file."
   ]
  },
  {
   "cell_type": "code",
   "execution_count": 7,
   "metadata": {},
   "outputs": [],
   "source": [
    "phenotype_pr_sizes = []\n",
    "gene_pr_sizes = []\n",
    "phenotype_pr_sizes_dict = dict()\n",
    "gene_pr_sizes_dict = dict()\n",
    "taxon_data = pd.read_csv('../../data/real_data_experiment/input_files/Swartz_phenotypic_profiles.txt',\\\n",
    "                           sep='\\t', header=0)\n",
    "genes_data = pd.read_csv('../../data/real_data_experiment/input_files/Annotations_KBGenes2016.txt',\\\n",
    "                    sep='\\t', header=None, names=['geneID', 'uberon_val', 'pato_val'])\n",
    "genes.dropna(axis=0, inplace=True, subset=['uberon_val'])\n",
    "\n",
    "for i in original_data.index:\n",
    "    taxon = original_data.at[i, 'Character Number']\n",
    "    gene = original_data.at[i, 'GeneID']\n",
    "#     print(taxon)    \n",
    "    if taxon not in phenotype_pr_sizes_dict:\n",
    "        taxon_size = taxon_data[taxon_data['Character']==taxon].Character.count()\n",
    "        phenotype_pr_sizes_dict[taxon] = taxon_size\n",
    "    else:\n",
    "        taxon_size = phenotype_pr_sizes_dict[taxon]\n",
    "    if gene not in gene_pr_sizes_dict:\n",
    "        gene_size = genes_data[genes_data['geneID']==gene].geneID.count()\n",
    "        gene_pr_sizes_dict[gene] = gene_size\n",
    "    else:\n",
    "        gene_size = gene_pr_sizes_dict[gene]    \n",
    "#     print(taxon_size)\n",
    "    phenotype_pr_sizes.append(taxon_size)\n",
    "    gene_pr_sizes.append(gene_size)\n",
    "    \n",
    "original_data['taxon_size'] = phenotype_pr_sizes\n",
    "original_data['gene_size'] = gene_pr_sizes\n",
    "original_data.to_csv(\"../../data/real_data_experiment/experiment/results/scores_sizes.tsv\", index=False, \n",
    "              sep=\"\\t\")"
   ]
  },
  {
   "cell_type": "markdown",
   "metadata": {},
   "source": [
    "Eliminate all the genes that have profile size zero or score zero.\n",
    "This is needed in order to apply later on box cox transformation, which accepts only positive, non zero inputs."
   ]
  },
  {
   "cell_type": "code",
   "execution_count": 21,
   "metadata": {},
   "outputs": [],
   "source": [
    "input = pd.read_csv('../../data/real_data_experiment/experiment/results/scores_sizes.tsv',\n",
    "                   header=0, sep='\\t')\n",
    "\n",
    "input_filtered = input[input.gene_size != 0]\n",
    "input_filtered = input_filtered[input_filtered['Median nIC'] != 0]\n",
    "input_filtered.to_csv(\"../../data/real_data_experiment/experiment/results/scores_sizes_filtered.tsv\", index=False, \n",
    "              sep=\"\\t\")"
   ]
  },
  {
   "cell_type": "markdown",
   "metadata": {},
   "source": [
    "# Generate average similarity scores\n",
    "\n",
    "We will compute the average score for each pair (gene_size, taxon_size), in order to manipulate data easily and have clearer view of how the data looks, since multiple pairs genes and taxons with same profile sizes can have same similarity scores."
   ]
  },
  {
   "cell_type": "code",
   "execution_count": 27,
   "metadata": {},
   "outputs": [],
   "source": [
    "def generate_avg_scores(input_filtered):\n",
    "\n",
    "    if len(input_filtered) == 0:\n",
    "        print('missing values for scores/taxon profile sizes/gene profile sizes')\n",
    "        return\n",
    "\n",
    "    input_filtered = input_filtered.groupby(['taxon_size','gene_size'], as_index=False)['Median nIC'].mean() \n",
    "    input_filtered.rename(columns={'Median nIC':'avg_scores'}, inplace=True)    \n",
    "    return input_filtered"
   ]
  },
  {
   "cell_type": "code",
   "execution_count": 28,
   "metadata": {},
   "outputs": [
    {
     "name": "stdout",
     "output_type": "stream",
     "text": [
      "3966\n",
      "   taxon_size  gene_size  avg_scores\n",
      "0           3          1    0.037964\n",
      "1           3          2    0.034825\n",
      "2           3          3    0.038560\n",
      "3           3          4    0.049434\n",
      "4           3          5    0.057835\n"
     ]
    }
   ],
   "source": [
    "gene_taxon_avg_scores = generate_avg_scores(input_filtered)\n",
    "print(len(gene_taxon_avg_scores))\n",
    "print(gene_taxon_avg_scores.head())"
   ]
  },
  {
   "cell_type": "code",
   "execution_count": 29,
   "metadata": {},
   "outputs": [
    {
     "name": "stdout",
     "output_type": "stream",
     "text": [
      "   Character Number                                             GeneID  \\\n",
      "0                 1  http://www.informatics.jax.org/marker/MGI:1924366   \n",
      "1                 1  http://www.informatics.jax.org/marker/MGI:1923407   \n",
      "2                 1  http://www.informatics.jax.org/marker/MGI:2673855   \n",
      "4                 1  http://www.informatics.jax.org/marker/MGI:1921765   \n",
      "5                 1               http://zfin.org/ZDB-GENE-030131-6701   \n",
      "\n",
      "   Genename  Median nIC  Evidence  taxon_size  gene_size  \n",
      "0     mtmr2       0.020       NaN          11         26  \n",
      "1   slc35d3       0.015       NaN          11          4  \n",
      "2  gltscr1l       0.015       NaN          11          6  \n",
      "4    cdkal1       0.040       NaN          11         52  \n",
      "5     nfkb2       0.020       NaN          11         35  \n"
     ]
    }
   ],
   "source": [
    "print(input_filtered.head())"
   ]
  },
  {
   "cell_type": "markdown",
   "metadata": {},
   "source": [
    "# Data Transformation\n",
    "\n",
    "Log Transformations\n",
    "We will obtain the log for taxon/gene profile sizes, similarity score. "
   ]
  },
  {
   "cell_type": "markdown",
   "metadata": {},
   "source": [
    "## Log and BoxCox Transformation\n",
    "\n",
    "Gene Logarithm, Taxon Logarithm, Average scores Logarithm\n",
    "Gene BoxCox, Taxon BoxCox, Average scores BoxCox"
   ]
  },
  {
   "cell_type": "code",
   "execution_count": 13,
   "metadata": {
    "scrolled": true
   },
   "outputs": [
    {
     "name": "stdout",
     "output_type": "stream",
     "text": [
      "   gene  taxon   geneLog  taxonLog  avg_scoresLog z_values_log p_values_log  \\\n",
      "0     1      3  0.000000  1.098612      -3.271106                             \n",
      "1     2      3  0.693147  1.098612      -3.357424                             \n",
      "2     3      3  1.098612  1.098612      -3.255544                             \n",
      "3     4      3  1.386294  1.098612      -3.007123                             \n",
      "4     5      3  1.609438  1.098612      -2.850169                             \n",
      "\n",
      "   geneBoxCox  taxonBoxCox  avg_scoresBoxCox z_values_boxcox p_values_boxcox  \n",
      "0    0.000000     2.818616         -1.809065                                  \n",
      "1    0.776417     2.818616         -1.831500                                  \n",
      "2    1.317546     2.818616         -1.804936                                  \n",
      "3    1.746569     2.818616         -1.735357                                  \n",
      "4    2.107761     2.818616         -1.687632                                  \n"
     ]
    }
   ],
   "source": [
    "geneLog = gene_taxon_avg_scores['gene_size'].apply(np.log)\n",
    "taxonLog = gene_taxon_avg_scores['taxon_size'].apply(np.log)\n",
    "avg_scoresLog = gene_taxon_avg_scores['avg_scores'].apply(np.log)\n",
    "\n",
    "geneBoxCox, lmbda1 = ss.boxcox(gene_taxon_avg_scores['gene_size'])\n",
    "taxonBoxCox, lmbda2 = ss.boxcox(gene_taxon_avg_scores['taxon_size'])\n",
    "avg_scoresBoxCox, lmbda3 = ss.boxcox(gene_taxon_avg_scores['avg_scores'])\n",
    "\n",
    "data = pd.DataFrame(\n",
    "    {\n",
    "        'gene': gene_taxon_avg_scores['gene_size'],\n",
    "        'taxon': gene_taxon_avg_scores['taxon_size'],        \n",
    "        'geneLog': geneLog,\n",
    "        'taxonLog': taxonLog,\n",
    "        'avg_scoresLog': avg_scoresLog,\n",
    "        'z_values_log': '',\n",
    "        'p_values_log': '',\n",
    "        'geneBoxCox': geneBoxCox,\n",
    "        'taxonBoxCox': taxonBoxCox,\n",
    "        'avg_scoresBoxCox': avg_scoresBoxCox,\n",
    "        'z_values_boxcox': '',\n",
    "        'p_values_boxcox': ''\n",
    "    })\n",
    "data.set_index(['geneLog', 'taxonLog'])\n",
    "print(data.head())"
   ]
  },
  {
   "cell_type": "code",
   "execution_count": 14,
   "metadata": {},
   "outputs": [],
   "source": [
    "def compute_std_dev(forLog):\n",
    "    \n",
    "    std_dev = 0\n",
    "    if forLog == True:\n",
    "        mean = avg_scoresLog.mean()\n",
    "        avg_scores = avg_scoresLog\n",
    "    else:\n",
    "        mean = avg_scoresBoxCox.mean()\n",
    "        avg_scores = avg_scoresBoxCox\n",
    "    for score in avg_scores:\n",
    "        input = score-mean\n",
    "        std_dev = std_dev + math.pow(input, 2)\n",
    "    \n",
    "    std_dev = std_dev/len(avg_scores)\n",
    "    std_dev = math.sqrt(std_dev)\n",
    "    return std_dev    "
   ]
  },
  {
   "cell_type": "code",
   "execution_count": 16,
   "metadata": {},
   "outputs": [],
   "source": [
    "def compute_z_values(forLog, const, coeff_taxon, coeff_gene,std_dev):\n",
    "            \n",
    "    z_values = []\n",
    "    if forLog == True:\n",
    "        length = len(avg_scoresLog)\n",
    "        avg_scores = 'avg_scoresLog'\n",
    "        taxon_type = 'taxonLog'\n",
    "        gene_type = 'geneLog'\n",
    "        z_value_type = 'z_values_log'\n",
    "    else:\n",
    "        length = len(avg_scoresBoxCox)\n",
    "        avg_scores = 'avg_scoresBoxCox'\n",
    "        taxon_type = 'taxonBoxCox'\n",
    "        gene_type = 'geneBoxCox'\n",
    "        z_value_type = 'z_values_boxcox'\n",
    "    for i in range(length):\n",
    "        observed_value = data.at[i, avg_scores]\n",
    "        predicted_value = const+coeff_taxon*data.at[i, taxon_type]+\\\n",
    "                            coeff_gene*data.at[i, gene_type]        \n",
    "        z_value = (observed_value - predicted_value)/std_dev\n",
    "        z_values.append(z_value)\n",
    "        data.at[i, z_value_type] = z_value      \n",
    "        \n",
    "    return z_values"
   ]
  },
  {
   "cell_type": "markdown",
   "metadata": {},
   "source": [
    "These are the equation's coefficients obtained when we used OLS and WLS multiple linear regressions."
   ]
  },
  {
   "cell_type": "code",
   "execution_count": 15,
   "metadata": {},
   "outputs": [],
   "source": [
    "const_boxcox = -1.938113\n",
    "coeff_taxonBoxCox = -0.000546\n",
    "coeff_geneBoxCox = 0.022443\n",
    "\n",
    "const_log = -4.233184\n",
    "coeff_taxonLog = -0.118803\n",
    "coeff_geneLog = 0.328559"
   ]
  },
  {
   "cell_type": "markdown",
   "metadata": {},
   "source": [
    "We will compute p values for all the average scores. In order to do that, we will have to compute first the Z values for all avg scores.\n",
    "\n",
    "## Computing Z values"
   ]
  },
  {
   "cell_type": "code",
   "execution_count": 18,
   "metadata": {},
   "outputs": [
    {
     "name": "stdout",
     "output_type": "stream",
     "text": [
      "2.855698541150872\n",
      "2.0348503426449893\n",
      "1.952941345362626\n",
      "2.355187490128834\n",
      "2.5737917955131158\n"
     ]
    }
   ],
   "source": [
    "std_deviation_log = compute_std_dev(True)\n",
    "std_deviation_boxcox = compute_std_dev(False)\n",
    "z_values_log = compute_z_values(True, const_log, coeff_taxonLog, coeff_geneLog,\\\n",
    "                            std_deviation_log)\n",
    "z_values_boxcox = compute_z_values(False, const_boxcox, coeff_taxonBoxCox, coeff_geneBoxCox,\\\n",
    "                            std_deviation_boxcox)\n",
    "for i in range(5):\n",
    "    print(z_values_log[i]) "
   ]
  },
  {
   "cell_type": "markdown",
   "metadata": {},
   "source": [
    "## Computing p values"
   ]
  },
  {
   "cell_type": "code",
   "execution_count": 19,
   "metadata": {},
   "outputs": [
    {
     "name": "stdout",
     "output_type": "stream",
     "text": [
      "0.16978619032727127\n",
      "0.22946258082418114\n",
      "0.20605390060425477\n",
      "0.12974771763399362\n",
      "0.09462489146602959\n"
     ]
    }
   ],
   "source": [
    "p_valuesLog = []\n",
    "p_valuesBoxCox = []\n",
    "for i in range(len(z_values_log)):    \n",
    "    no1 = -math.e **(-data.at[i,'z_values_log']*math.pi/math.sqrt(6)-mp.euler)\n",
    "    no2 = -math.e **(-data.at[i,'z_values_boxcox']*math.pi/math.sqrt(6)-mp.euler)\n",
    "    p_value1 = 1 - math.exp(no1)\n",
    "    p_value2 = 1 - math.exp(no2)\n",
    "    p_valuesLog.append(p_value1)\n",
    "    p_valuesBoxCox.append(p_value2)\n",
    "    data.at[i,'p_values_log'] = p_value1\n",
    "    data.at[i,'p_values_boxcox'] = p_value2    \n",
    "for i in range(5):\n",
    "    print(p_valuesBoxCox[i]) "
   ]
  },
  {
   "cell_type": "markdown",
   "metadata": {},
   "source": [
    "Let's merge our results with the original data."
   ]
  },
  {
   "cell_type": "code",
   "execution_count": 31,
   "metadata": {},
   "outputs": [],
   "source": [
    "merged_data = input_filtered.merge(data, left_on=['taxon_size', 'gene_size'],\n",
    "                           right_on=['taxon', 'gene'], how='left')\n",
    "merged_data.drop(columns=['gene', 'taxon', 'avg_scoresLog', 'geneLog',\\\n",
    "                          'taxonLog', 'avg_scoresBoxCox', 'geneBoxCox',\\\n",
    "                          'taxonBoxCox'], inplace=True)"
   ]
  },
  {
   "cell_type": "markdown",
   "metadata": {},
   "source": [
    "## Compute expected values"
   ]
  },
  {
   "cell_type": "code",
   "execution_count": 33,
   "metadata": {},
   "outputs": [],
   "source": [
    "no_unique_taxon = merged_data['Character Number'].nunique()\n",
    "merged_data['e_values_log'] = [no_unique_taxon*p_value for p_value\n",
    "                             in merged_data['p_values_log']]\n",
    "merged_data['e_values_boxcox'] = [no_unique_taxon*p_value for p_value\n",
    "                             in merged_data['p_values_boxcox']]"
   ]
  },
  {
   "cell_type": "code",
   "execution_count": 34,
   "metadata": {},
   "outputs": [],
   "source": [
    "merged_data.to_csv('../../data/real_data_experiment/experiment/results/P_Z_Expect_values.tsv', index=False, \n",
    "              sep=\"\\t\", float_format='%.17f')"
   ]
  },
  {
   "cell_type": "code",
   "execution_count": 30,
   "metadata": {},
   "outputs": [],
   "source": [
    "plot_data = pd.read_csv('../../data/real_data_experiment/experiment/results/P_Z_Expect_values.tsv',\\\n",
    "                           sep='\\t', header=0, low_memory=True, memory_map=True)"
   ]
  },
  {
   "cell_type": "code",
   "execution_count": 77,
   "metadata": {},
   "outputs": [
    {
     "data": {
      "image/png": "[encoded data removed]",
      "text/plain": [
       "<Figure size 432x288 with 1 Axes>"
      ]
     },
     "metadata": {},
     "output_type": "display_data"
    },
    {
     "data": {
      "image/png": "[encoded data removed]",
      "text/plain": [
       "<Figure size 432x288 with 1 Axes>"
      ]
     },
     "metadata": {},
     "output_type": "display_data"
    },
    {
     "data": {
      "image/png": "[encoded data removed]",
      "text/plain": [
       "<Figure size 432x288 with 1 Axes>"
      ]
     },
     "metadata": {},
     "output_type": "display_data"
    },
    {
     "data": {
      "image/png": "[encoded data removed]",
      "text/plain": [
       "<Figure size 432x288 with 1 Axes>"
      ]
     },
     "metadata": {},
     "output_type": "display_data"
    },
    {
     "data": {
      "image/png": "[encoded data removed]",
      "text/plain": [
       "<Figure size 432x288 with 1 Axes>"
      ]
     },
     "metadata": {},
     "output_type": "display_data"
    },
    {
     "data": {
      "image/png": "[encoded data removed]",
      "text/plain": [
       "<Figure size 432x288 with 1 Axes>"
      ]
     },
     "metadata": {},
     "output_type": "display_data"
    }
   ],
   "source": [
    "#get lines where evidence is a number\n",
    "plot_dataEvidenceNan = plot_data[plot_data.Evidence.isnull()]\n",
    "plot_dataEvidenceValid = plot_data[plot_data.Evidence.notnull()]\n",
    "evidenceNanLog = plot_dataEvidenceNan.e_values_log\n",
    "evidenceValidLog = plot_dataEvidenceValid.e_values_log\n",
    "ran = np.linspace(0, 6)\n",
    "plt.hist(evidenceNanLog, range=(0,6), bins=70, rwidth=0.9, color='#100c8e', \n",
    "         weights=np.ones(len(evidenceNanLog)) / len(evidenceNanLog), label='Non Cand')\n",
    "plt.hist(evidenceValidLog, range=(0,6), bins=70, rwidth=0.9, color='#800c8e',\n",
    "        weights=np.ones(len(evidenceValidLog)) / len(evidenceValidLog), label='Candidate')\n",
    "plt.legend(loc='upper right')\n",
    "plt.xlabel('expect values log')\n",
    "plt.ylabel('Percentage')\n",
    "plt.show()\n",
    "\n",
    "evidenceNanBoxCox = plot_dataEvidenceNan.e_values_boxcox\n",
    "evidenceValidBoxCox = plot_dataEvidenceValid.e_values_boxcox\n",
    "ran = np.linspace(0, 6)\n",
    "plt.hist(evidenceNanBoxCox, range=(0,6), bins=70, rwidth=0.9, color='#100c8e', \n",
    "         weights=np.ones(len(evidenceNanBoxCox)) / len(evidenceNanBoxCox), label='Non Cand')\n",
    "plt.hist(evidenceValidBoxCox, range=(0,6), bins=70, rwidth=0.9, color='#800c8e',\n",
    "        weights=np.ones(len(evidenceValidBoxCox)) / len(evidenceValidBoxCox), label='Candidate')\n",
    "plt.legend(loc='upper right')\n",
    "plt.xlabel('expect values boxcox')\n",
    "plt.ylabel('Percentage')\n",
    "plt.show()\n",
    "\n",
    "plot_data = plot_data[plot_data['e_values_log'] < 2]\n",
    "plot_dataEvidenceNan = plot_data[plot_data.Evidence.isnull()]\n",
    "plot_dataEvidenceValid = plot_data[plot_data.Evidence.notnull()]\n",
    "evidenceNanLog = plot_dataEvidenceNan.e_values_log\n",
    "evidenceValidLog = plot_dataEvidenceValid.e_values_log\n",
    "ran = np.linspace(0, 6)\n",
    "plt.hist(evidenceNanLog, range=(0,2), bins=70, rwidth=0.9, color='#100c8e', \n",
    "         weights=np.ones(len(evidenceNanLog)) / len(evidenceNanLog), label='Non Cand')\n",
    "plt.hist(evidenceValidLog, range=(0,2), bins=70, rwidth=0.9, color='#800c8e',\n",
    "        weights=np.ones(len(evidenceValidLog)) / len(evidenceValidLog), label='Candidate')\n",
    "plt.legend(loc='upper right')\n",
    "plt.xlabel('expect values log')\n",
    "plt.ylabel('Percentage')\n",
    "plt.show()\n",
    "\n",
    "plot_data = plot_data[plot_data['e_values_boxcox'] < 2]\n",
    "evidenceNanBoxCox = plot_dataEvidenceNan.e_values_boxcox\n",
    "evidenceValidBoxCox = plot_dataEvidenceValid.e_values_boxcox\n",
    "ran = np.linspace(0, 6)\n",
    "plt.hist(evidenceNanBoxCox, range=(0,2), bins=70, rwidth=0.9, color='#100c8e', \n",
    "         weights=np.ones(len(evidenceNanBoxCox)) / len(evidenceNanBoxCox), label='Non Cand')\n",
    "plt.hist(evidenceValidBoxCox, range=(0,2), bins=70, rwidth=0.9, color='#800c8e',\n",
    "        weights=np.ones(len(evidenceValidBoxCox)) / len(evidenceValidBoxCox), label='Candidate')\n",
    "plt.legend(loc='upper right')\n",
    "plt.xlabel('expect values boxcox')\n",
    "plt.ylabel('Percentage')\n",
    "plt.show()\n",
    "\n",
    "plot_data = plot_data[plot_data['e_values_log'] < 2]\n",
    "plot_dataEvidenceNan = plot_data[plot_data.Evidence.isnull()]\n",
    "plot_dataEvidenceValid = plot_data[plot_data.Evidence.notnull()]\n",
    "evidenceNanLog = plot_dataEvidenceNan.e_values_log\n",
    "evidenceValidLog = plot_dataEvidenceValid.e_values_log\n",
    "ran = np.linspace(0, 6)\n",
    "plt.hist(evidenceNanLog, range=(0,2), bins=70, rwidth=0.9, color='#100c8e', label='Non Cand')\n",
    "plt.hist(evidenceValidLog, range=(0,2), bins=70, rwidth=0.9, color='#800c8e', label='Candidate')\n",
    "plt.legend(loc='upper right')\n",
    "plt.xlabel('expect values log')\n",
    "plt.ylabel('Count')\n",
    "plt.show()\n",
    "\n",
    "plot_data = plot_data[plot_data['e_values_boxcox'] < 2]\n",
    "evidenceNanBoxCox = plot_dataEvidenceNan.e_values_boxcox\n",
    "evidenceValidBoxCox = plot_dataEvidenceValid.e_values_boxcox\n",
    "ran = np.linspace(0, 6)\n",
    "plt.hist(evidenceNanBoxCox, range=(0,2), bins=70, rwidth=0.9, color='#100c8e', label='Non Cand')\n",
    "plt.hist(evidenceValidBoxCox, range=(0,2), bins=70, rwidth=0.9, color='#800c8e', label='Candidate')\n",
    "plt.legend(loc='upper right')\n",
    "plt.xlabel('expect values boxcox')\n",
    "plt.ylabel('Count')\n",
    "plt.show()"
   ]
  }
 ],
 "metadata": {
  "kernelspec": {
   "display_name": "Python 3",
   "language": "python",
   "name": "python3"
  },
  "language_info": {
   "codemirror_mode": {
    "name": "ipython",
    "version": 3
   },
   "file_extension": ".py",
   "mimetype": "text/x-python",
   "name": "python",
   "nbconvert_exporter": "python",
   "pygments_lexer": "ipython3",
   "version": "3.6.5"
  }
 },
 "nbformat": 4,
 "nbformat_minor": 2
}
