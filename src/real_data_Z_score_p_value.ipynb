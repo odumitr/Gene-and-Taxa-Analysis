{
 "cells": [
  {
   "cell_type": "code",
   "execution_count": 1,
   "metadata": {},
   "outputs": [],
   "source": [
    "import matplotlib.pyplot as plt\n",
    "import pandas as pd\n",
    "import statsmodels.formula.api as smf\n",
    "import numpy as np\n",
    "import scipy.stats as ss\n",
    "import statsmodels.api as sm\n",
    "from mpmath import mp\n",
    "import math\n",
    "import csv"
   ]
  },
  {
   "cell_type": "markdown",
   "metadata": {},
   "source": [
    "# Load Data\n",
    "gene, taxon profile sizes and the similarity scores for eah pair"
   ]
  },
  {
   "cell_type": "code",
   "execution_count": 2,
   "metadata": {},
   "outputs": [],
   "source": [
    "original_data = pd.read_csv(\"../../data/real_data/Scores_Sizes.txt\", sep=\"\\t\", header=0, \n",
    "                    low_memory=True, memory_map=True, float_precision='round_trip')\n",
    "gene_taxon_scores = original_data.copy()\n",
    "\n",
    "#keep only columns of interest for current code\n",
    "gene_taxon_scores.drop(columns=['Query Profile', 'Query Name', 'Corpus Profile',\n",
    "                                'Corpus Profile Name', 'URI'], inplace=True)\n",
    "gene_taxon_scores.rename(columns={'Query Profile Size':'taxon'}, inplace=True)\n",
    "gene_taxon_scores.rename(columns={'Corpus Profile Size':'gene'}, inplace=True)\n",
    "gene_taxon_scores.rename(columns={'Overall Similarity':'scores'}, inplace=True)"
   ]
  },
  {
   "cell_type": "markdown",
   "metadata": {},
   "source": [
    "# Generate average similarity scores\n",
    "\n",
    "We will compute the average score for each pair (gene_size, taxon_size), in order to manipulate data easily and have clearer view of how the data looks, since multiple pairs genes and taxons with same profile sizes can have same similarity scores."
   ]
  },
  {
   "cell_type": "code",
   "execution_count": 3,
   "metadata": {},
   "outputs": [],
   "source": [
    "def generate_avg_scores(gene_taxon_scores):\n",
    "\n",
    "    if len(gene_taxon_scores) == 0:\n",
    "        print('missing values for scores/taxon profile sizes/gene profile sizes')\n",
    "        return\n",
    "\n",
    "    gene_taxon_scores = gene_taxon_scores.groupby(['taxon','gene'], as_index=False)['scores'].mean() \n",
    "    gene_taxon_scores.rename(columns={'scores':'avg_scores'}, inplace=True)    \n",
    "    return gene_taxon_scores"
   ]
  },
  {
   "cell_type": "code",
   "execution_count": 4,
   "metadata": {},
   "outputs": [
    {
     "name": "stdout",
     "output_type": "stream",
     "text": [
      "32592\n",
      "   taxon  gene  avg_scores\n",
      "0      1     2    0.043367\n",
      "1      1     3    0.080734\n",
      "2      1     4    0.092635\n",
      "3      1     5    0.104879\n",
      "4      1     6    0.118577\n"
     ]
    }
   ],
   "source": [
    "gene_taxon_avg_scores = generate_avg_scores(gene_taxon_scores)\n",
    "print(len(gene_taxon_avg_scores))\n",
    "print(gene_taxon_avg_scores.head())"
   ]
  },
  {
   "cell_type": "markdown",
   "metadata": {},
   "source": [
    "# Data Transformation\n",
    "\n",
    "Log Transformations\n",
    "We will obtain the log for taxon/gene profile sizes, similarity score. These values will be used later in multiple linear regressions. "
   ]
  },
  {
   "cell_type": "markdown",
   "metadata": {},
   "source": [
    "## Log Transformation\n",
    "\n",
    "Gene Logarithm, Taxon Logarithm, Average scores"
   ]
  },
  {
   "cell_type": "code",
   "execution_count": 5,
   "metadata": {},
   "outputs": [
    {
     "name": "stdout",
     "output_type": "stream",
     "text": [
      "   gene  taxon   geneLog  taxonLog  avg_scoresLog z_values p_values\n",
      "0     2      1  0.693147       0.0      -3.138048                  \n",
      "1     3      1  1.098612       0.0      -2.516600                  \n",
      "2     4      1  1.386294       0.0      -2.379083                  \n",
      "3     5      1  1.609438       0.0      -2.254949                  \n",
      "4     6      1  1.791759       0.0      -2.132193                  \n"
     ]
    }
   ],
   "source": [
    "geneLog = gene_taxon_avg_scores['gene'].apply(np.log)\n",
    "taxonLog = gene_taxon_avg_scores['taxon'].apply(np.log)\n",
    "avg_scoresLog = gene_taxon_avg_scores['avg_scores'].apply(np.log)\n",
    "\n",
    "data = pd.DataFrame(\n",
    "    {\n",
    "        'gene': gene_taxon_avg_scores['gene'],\n",
    "        'taxon': gene_taxon_avg_scores['taxon'],        \n",
    "        'geneLog': geneLog,\n",
    "        'taxonLog': taxonLog,\n",
    "        'avg_scoresLog': avg_scoresLog,\n",
    "        'z_values': '',\n",
    "        'p_values': ''\n",
    "    })\n",
    "data.set_index(['geneLog', 'taxonLog'])\n",
    "print(data.head())"
   ]
  },
  {
   "cell_type": "markdown",
   "metadata": {},
   "source": [
    "Build a histogram with the avg scores values"
   ]
  },
  {
   "cell_type": "code",
   "execution_count": 6,
   "metadata": {},
   "outputs": [
    {
     "data": {
      "image/png": "[encoded data removed]",
      "text/plain": [
       "<Figure size 432x288 with 1 Axes>"
      ]
     },
     "metadata": {},
     "output_type": "display_data"
    }
   ],
   "source": [
    "plt.hist(avg_scoresLog, bins=4)\n",
    "plt.xlabel('Avg Scores Log')\n",
    "plt.ylabel('Frequency')\n",
    "plt.show()"
   ]
  },
  {
   "cell_type": "code",
   "execution_count": 7,
   "metadata": {},
   "outputs": [],
   "source": [
    "def compute_std_dev():\n",
    "    \n",
    "    std_dev = 0\n",
    "    mean = avg_scoresLog.mean()\n",
    "    for score in avg_scoresLog:\n",
    "        input = score-mean\n",
    "        std_dev = std_dev + math.pow(input, 2)\n",
    "    \n",
    "    std_dev = std_dev/len(avg_scoresLog)\n",
    "    std_dev = math.sqrt(std_dev)\n",
    "    return std_dev    "
   ]
  },
  {
   "cell_type": "code",
   "execution_count": 8,
   "metadata": {},
   "outputs": [],
   "source": [
    "def compute_z_values(const, coeff_taxonLog, coeff_geneLog, std_dev):\n",
    "            \n",
    "    z_values = []\n",
    "    for i in range(len(avg_scoresLog)):\n",
    "        observed_value = data.at[i,'avg_scoresLog']\n",
    "        predicted_value = const+coeff_taxonLog*data.at[i,'taxonLog']+coeff_geneLog*data.at[i,'geneLog']        \n",
    "        z_value = (observed_value - predicted_value)/std_dev\n",
    "        z_values.append(z_value)\n",
    "        data.at[i,'z_values'] = z_value      \n",
    "        \n",
    "    return z_values"
   ]
  },
  {
   "cell_type": "markdown",
   "metadata": {},
   "source": [
    "These are the equation's coefficients obtained when we used WLS multiple linear regression on log gene size, log taxon size, log avg scores."
   ]
  },
  {
   "cell_type": "code",
   "execution_count": 9,
   "metadata": {},
   "outputs": [],
   "source": [
    "const = -2.903170\n",
    "coeff_taxonLog = 0.252263\n",
    "coeff_geneLog = 0.378430"
   ]
  },
  {
   "cell_type": "markdown",
   "metadata": {},
   "source": [
    "We will compute p values for all the average scores. In order to do that, we will have to compute first the Z values for all avg scores.\n",
    "\n",
    "## Computing Z values"
   ]
  },
  {
   "cell_type": "code",
   "execution_count": 10,
   "metadata": {},
   "outputs": [
    {
     "name": "stdout",
     "output_type": "stream",
     "text": [
      "-1.3377876270147617\n",
      "-0.07850882344795908\n",
      "-0.001422182212942472\n",
      "0.10537222293078828\n",
      "0.250026729902173\n"
     ]
    }
   ],
   "source": [
    "std_deviation = compute_std_dev()\n",
    "z_values = compute_z_values(const, coeff_taxonLog, coeff_geneLog, std_deviation)\n",
    "for i in range(5):\n",
    "    print(z_values[i]) "
   ]
  },
  {
   "cell_type": "markdown",
   "metadata": {},
   "source": [
    "## Computing p values"
   ]
  },
  {
   "cell_type": "code",
   "execution_count": 11,
   "metadata": {},
   "outputs": [
    {
     "name": "stdout",
     "output_type": "stream",
     "text": [
      "0.9559434123982117\n",
      "0.4625598690789904\n",
      "0.4302083613522706\n",
      "0.3876705944924903\n",
      "0.33464163233360755\n"
     ]
    }
   ],
   "source": [
    "p_values = []\n",
    "for i in range(len(z_values)):    \n",
    "    no = -math.e **(-data.at[i,'z_values']*math.pi/math.sqrt(6)-mp.euler)\n",
    "    p_value = 1 - math.exp(no)\n",
    "    p_values.append(p_value)\n",
    "    data.at[i,'p_values'] = p_value      \n",
    "for i in range(5):\n",
    "    print(p_values[i]) "
   ]
  },
  {
   "cell_type": "code",
   "execution_count": null,
   "metadata": {},
   "outputs": [],
   "source": [
    "merged_data = original_data.merge(data, left_on=['Query Profile Size', 'Corpus Profile Size'],\n",
    "                           right_on=['taxon', 'gene'], how='left')\n",
    "merged_data.drop(columns=['gene', 'taxon', 'avg_scoresLog', 'geneLog', 'taxonLog'], inplace=True)\n",
    "merged_data.to_csv(\"../../data/real_data/Scores_Sizes_z_p_values.txt\", index=False, \n",
    "              sep=\"\\t\", float_format='%.17f')"
   ]
  }
 ],
 "metadata": {
  "kernelspec": {
   "display_name": "Python 3",
   "language": "python",
   "name": "python3"
  },
  "language_info": {
   "codemirror_mode": {
    "name": "ipython",
    "version": 3
   },
   "file_extension": ".py",
   "mimetype": "text/x-python",
   "name": "python",
   "nbconvert_exporter": "python",
   "pygments_lexer": "ipython3",
   "version": "3.6.5"
  }
 },
 "nbformat": 4,
 "nbformat_minor": 2
}
