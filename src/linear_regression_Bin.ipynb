{
 "cells": [
  {
   "cell_type": "code",
   "execution_count": 1,
   "metadata": {},
   "outputs": [
    {
     "name": "stderr",
     "output_type": "stream",
     "text": [
      "C:\\Users\\b_luo\\AppData\\Local\\Continuum\\anaconda2\\lib\\site-packages\\statsmodels\\compat\\pandas.py:56: FutureWarning: The pandas.core.datetools module is deprecated and will be removed in a future version. Please use the pandas.tseries module instead.\n",
      "  from pandas.core import datetools\n"
     ]
    }
   ],
   "source": [
    "import matplotlib.pyplot as plt\n",
    "import math\n",
    "import numpy as np\n",
    "import os\n",
    "import pandas as pd\n",
    "import statsmodels.formula.api as smf\n",
    "import statsmodels.api as sm\n",
    "\n",
    "%matplotlib inline"
   ]
  },
  {
   "cell_type": "markdown",
   "metadata": {},
   "source": [
    "## Load and transform data"
   ]
  },
  {
   "cell_type": "code",
   "execution_count": 2,
   "metadata": {
    "collapsed": true
   },
   "outputs": [],
   "source": [
    "taxonGenePairs = {}\n",
    "alreadySeenPairs = set()\n",
    "    \n",
    "inFile = open(\"../data/Scores_Sizes.txt\")\n",
    "for line in inFile:\n",
    "    if \"Score\" not in line:\n",
    "        data = line.strip().split(\"\\t\")\n",
    "        gene = int(data[1])\n",
    "        taxon = int(data[4])\n",
    "        \n",
    "        if gene != 0:\n",
    "            gene = math.log(gene)\n",
    "        else:\n",
    "            gene = -1e6\n",
    "        \n",
    "        if taxon != 0:\n",
    "            taxon = math.log(taxon)\n",
    "        else:\n",
    "            taxon = -1e6\n",
    "        \n",
    "        pair = (taxon, gene)\n",
    "        score = float(data[6])\n",
    "        if score != 0:\n",
    "            scoreLog = math.log(score)\n",
    "        else: \n",
    "            scoreLog = -1e6\n",
    "        if pair not in alreadySeenPairs:\n",
    "            taxonGenePairs[pair] = [score, scoreLog, 1.0]\n",
    "            alreadySeenPairs.add(pair)\n",
    "        else:\n",
    "            prevScoreCount = taxonGenePairs.get(pair)\n",
    "            taxonGenePairs[pair] = [prevScoreCount[0] + score, prevScoreCount[1]+scoreLog, prevScoreCount[2] + 1.0]\n",
    "\n",
    "for key in taxonGenePairs:\n",
    "    scoreAndCount = taxonGenePairs.get(key)\n",
    "    taxonGenePairs[key] =[scoreAndCount[0]/scoreAndCount[2], scoreAndCount[1]/scoreAndCount[2],scoreAndCount[2] ]\n",
    "\n",
    "inFile.close()"
   ]
  },
  {
   "cell_type": "code",
   "execution_count": 3,
   "metadata": {
    "scrolled": true
   },
   "outputs": [
    {
     "data": {
      "text/html": [
       "<div>\n",
       "<style>\n",
       "    .dataframe thead tr:only-child th {\n",
       "        text-align: right;\n",
       "    }\n",
       "\n",
       "    .dataframe thead th {\n",
       "        text-align: left;\n",
       "    }\n",
       "\n",
       "    .dataframe tbody tr th {\n",
       "        vertical-align: top;\n",
       "    }\n",
       "</style>\n",
       "<table border=\"1\" class=\"dataframe\">\n",
       "  <thead>\n",
       "    <tr style=\"text-align: right;\">\n",
       "      <th></th>\n",
       "      <th>taxonLogCombo</th>\n",
       "      <th>geneLogCombo</th>\n",
       "      <th>scoreCombo</th>\n",
       "      <th>scoreLogCombo</th>\n",
       "      <th>count</th>\n",
       "    </tr>\n",
       "  </thead>\n",
       "  <tbody>\n",
       "    <tr>\n",
       "      <th>0</th>\n",
       "      <td>4.043051</td>\n",
       "      <td>5.043425</td>\n",
       "      <td>0.639043</td>\n",
       "      <td>-0.500247</td>\n",
       "      <td>4.0</td>\n",
       "    </tr>\n",
       "    <tr>\n",
       "      <th>1</th>\n",
       "      <td>4.382027</td>\n",
       "      <td>4.927254</td>\n",
       "      <td>1.028884</td>\n",
       "      <td>0.028140</td>\n",
       "      <td>2.0</td>\n",
       "    </tr>\n",
       "    <tr>\n",
       "      <th>2</th>\n",
       "      <td>5.463832</td>\n",
       "      <td>4.369448</td>\n",
       "      <td>1.075032</td>\n",
       "      <td>0.064724</td>\n",
       "      <td>11.0</td>\n",
       "    </tr>\n",
       "    <tr>\n",
       "      <th>3</th>\n",
       "      <td>2.564949</td>\n",
       "      <td>4.828314</td>\n",
       "      <td>0.684131</td>\n",
       "      <td>-0.449291</td>\n",
       "      <td>30.0</td>\n",
       "    </tr>\n",
       "    <tr>\n",
       "      <th>4</th>\n",
       "      <td>6.188264</td>\n",
       "      <td>4.553877</td>\n",
       "      <td>1.153085</td>\n",
       "      <td>0.133500</td>\n",
       "      <td>8.0</td>\n",
       "    </tr>\n",
       "  </tbody>\n",
       "</table>\n",
       "</div>"
      ],
      "text/plain": [
       "   taxonLogCombo  geneLogCombo  scoreCombo  scoreLogCombo  count\n",
       "0       4.043051      5.043425    0.639043      -0.500247    4.0\n",
       "1       4.382027      4.927254    1.028884       0.028140    2.0\n",
       "2       5.463832      4.369448    1.075032       0.064724   11.0\n",
       "3       2.564949      4.828314    0.684131      -0.449291   30.0\n",
       "4       6.188264      4.553877    1.153085       0.133500    8.0"
      ]
     },
     "execution_count": 3,
     "metadata": {},
     "output_type": "execute_result"
    }
   ],
   "source": [
    "taxonLogGeneLogAvgCombo = pd.DataFrame(taxonGenePairs.items(), columns=['taxonAndGeneLog','scoreSummary' ])\n",
    "\n",
    "taxonLogGeneLogAvgCombo[['taxonLogCombo', 'geneLogCombo']] = taxonLogGeneLogAvgCombo['taxonAndGeneLog'].apply(pd.Series)\n",
    "taxonLogGeneLogAvgCombo[['scoreCombo','scoreLogCombo','count']] = taxonLogGeneLogAvgCombo['scoreSummary'].apply(pd.Series)\n",
    "taxonLogGeneLogAvgCombo.drop(['taxonAndGeneLog'], axis=1, inplace=True)\n",
    "taxonLogGeneLogAvgCombo.drop(['scoreSummary'], axis=1, inplace=True)\n",
    "\n",
    "taxonLogGeneLogAvgCombo.head()"
   ]
  },
  {
   "cell_type": "markdown",
   "metadata": {
    "collapsed": true
   },
   "source": [
    "# OLS Multi Regression: Log(Taxon) + Log(Gene) vs. Average Score of Combo\n",
    "\n",
    "Now, we'll try a multiple regression using Log(Taxon) and Log(Gene) and the average of all scores associated with each pair."
   ]
  },
  {
   "cell_type": "code",
   "execution_count": 4,
   "metadata": {},
   "outputs": [
    {
     "name": "stdout",
     "output_type": "stream",
     "text": [
      "                            OLS Regression Results                            \n",
      "==============================================================================\n",
      "Dep. Variable:             scoreCombo   R-squared:                       0.738\n",
      "Model:                            OLS   Adj. R-squared:                  0.737\n",
      "Method:                 Least Squares   F-statistic:                 4.591e+04\n",
      "Date:                Tue, 03 Apr 2018   Prob (F-statistic):               0.00\n",
      "Time:                        13:59:20   Log-Likelihood:                 17435.\n",
      "No. Observations:               32683   AIC:                        -3.486e+04\n",
      "Df Residuals:                   32680   BIC:                        -3.484e+04\n",
      "Df Model:                           2                                         \n",
      "Covariance Type:            nonrobust                                         \n",
      "=================================================================================\n",
      "                    coef    std err          t      P>|t|      [0.025      0.975]\n",
      "---------------------------------------------------------------------------------\n",
      "Intercept        -0.6007      0.005   -126.501      0.000      -0.610      -0.591\n",
      "taxonLogCombo     0.1306      0.001    201.452      0.000       0.129       0.132\n",
      "geneLogCombo      0.1942      0.001    226.346      0.000       0.193       0.196\n",
      "==============================================================================\n",
      "Omnibus:                     1756.360   Durbin-Watson:                   1.986\n",
      "Prob(Omnibus):                  0.000   Jarque-Bera (JB):             7094.135\n",
      "Skew:                           0.042   Prob(JB):                         0.00\n",
      "Kurtosis:                       5.281   Cond. No.                         39.4\n",
      "==============================================================================\n",
      "\n",
      "Warnings:\n",
      "[1] Standard Errors assume that the covariance matrix of the errors is correctly specified.\n"
     ]
    }
   ],
   "source": [
    "resultsTaxonLogGeneLogAvgCombo = smf.ols(formula='scoreCombo ~ taxonLogCombo + geneLogCombo', data=taxonLogGeneLogAvgCombo).fit()\n",
    "print(resultsTaxonLogGeneLogAvgCombo.summary())"
   ]
  },
  {
   "cell_type": "code",
   "execution_count": 5,
   "metadata": {
    "scrolled": true
   },
   "outputs": [
    {
     "data": {
      "text/plain": [
       "<matplotlib.text.Text at 0x1553aef0>"
      ]
     },
     "execution_count": 5,
     "metadata": {},
     "output_type": "execute_result"
    },
    {
     "data": {
      "image/png": "[encoded data removed]",
      "text/plain": [
       "<matplotlib.figure.Figure at 0x874edd8>"
      ]
     },
     "metadata": {},
     "output_type": "display_data"
    }
   ],
   "source": [
    "residualsTaxonLogGeneLogAvgCombo = []\n",
    "actualTaxonLogGeneLogAvgCombo = list(taxonLogGeneLogAvgCombo.scoreCombo)\n",
    "predictedTaxonLogGeneLogAvgCombo = resultsTaxonLogGeneLogAvgCombo.fittedvalues\n",
    "\n",
    "for x in range(0, len(actualTaxonLogGeneLogAvgCombo)):\n",
    "    actualScore = actualTaxonLogGeneLogAvgCombo[x]\n",
    "    predictedScore = predictedTaxonLogGeneLogAvgCombo[x]\n",
    "    residual = actualScore - predictedScore\n",
    "    residualsTaxonLogGeneLogAvgCombo.append(residual)\n",
    "    \n",
    "plt.scatter(np.array(predictedTaxonLogGeneLogAvgCombo), np.array(residualsTaxonLogGeneLogAvgCombo))\n",
    "plt.title('Residuals: Log(Taxon Size) + Log(Gene Size) vs. Average Combined Score (OLS Multiple Regression)')\n",
    "plt.xlabel('Predicted')\n",
    "plt.ylabel('Residual')"
   ]
  },
  {
   "cell_type": "markdown",
   "metadata": {
    "collapsed": true
   },
   "source": [
    "# WLS Multi Regression: Log(Taxon) + Log(Gene) vs. Average Score of Combo with $weight = n_i$"
   ]
  },
  {
   "cell_type": "code",
   "execution_count": 6,
   "metadata": {},
   "outputs": [
    {
     "name": "stdout",
     "output_type": "stream",
     "text": [
      "                            WLS Regression Results                            \n",
      "==============================================================================\n",
      "Dep. Variable:             scoreCombo   R-squared:                       0.856\n",
      "Model:                            WLS   Adj. R-squared:                  0.856\n",
      "Method:                 Least Squares   F-statistic:                 9.716e+04\n",
      "Date:                Tue, 03 Apr 2018   Prob (F-statistic):               0.00\n",
      "Time:                        13:59:21   Log-Likelihood:                -1721.2\n",
      "No. Observations:               32683   AIC:                             3448.\n",
      "Df Residuals:                   32680   BIC:                             3474.\n",
      "Df Model:                           2                                         \n",
      "Covariance Type:            nonrobust                                         \n",
      "=================================================================================\n",
      "                    coef    std err          t      P>|t|      [0.025      0.975]\n",
      "---------------------------------------------------------------------------------\n",
      "const            -0.2046      0.001   -155.916      0.000      -0.207      -0.202\n",
      "taxonLogCombo     0.0806      0.000    298.658      0.000       0.080       0.081\n",
      "geneLogCombo      0.1267      0.000    324.235      0.000       0.126       0.127\n",
      "==============================================================================\n",
      "Omnibus:                    14343.508   Durbin-Watson:                   1.853\n",
      "Prob(Omnibus):                  0.000   Jarque-Bera (JB):          5701545.926\n",
      "Skew:                           0.809   Prob(JB):                         0.00\n",
      "Kurtosis:                      67.685   Cond. No.                         14.5\n",
      "==============================================================================\n",
      "\n",
      "Warnings:\n",
      "[1] Standard Errors assume that the covariance matrix of the errors is correctly specified.\n"
     ]
    }
   ],
   "source": [
    "y=taxonLogGeneLogAvgCombo.scoreCombo\n",
    "X=taxonLogGeneLogAvgCombo.loc[:,['taxonLogCombo','geneLogCombo']]\n",
    "X = sm.add_constant(X)\n",
    "wlsResultsTaxonLogGeneLogAvgCombo=smf.WLS(y,X,weights=taxonLogGeneLogAvgCombo.loc[:,'count']).fit()\n",
    "print(wlsResultsTaxonLogGeneLogAvgCombo.summary())"
   ]
  },
  {
   "cell_type": "code",
   "execution_count": 7,
   "metadata": {},
   "outputs": [
    {
     "data": {
      "text/plain": [
       "<matplotlib.text.Text at 0x1586eb70>"
      ]
     },
     "execution_count": 7,
     "metadata": {},
     "output_type": "execute_result"
    },
    {
     "data": {
      "image/png": "[encoded data removed]",
      "text/plain": [
       "<matplotlib.figure.Figure at 0x14e605c0>"
      ]
     },
     "metadata": {},
     "output_type": "display_data"
    }
   ],
   "source": [
    "wlsResidualsTaxonLogGeneLogAvgCombo = []\n",
    "wlsActualTaxonLogGeneLogAvgCombo = list(taxonLogGeneLogAvgCombo.scoreCombo)\n",
    "wlsPredictedTaxonLogGeneLogAvgCombo = wlsResultsTaxonLogGeneLogAvgCombo.fittedvalues\n",
    "\n",
    "for x in range(0, len(wlsActualTaxonLogGeneLogAvgCombo)):\n",
    "    actualScore = wlsActualTaxonLogGeneLogAvgCombo[x]\n",
    "    predictedScore = wlsPredictedTaxonLogGeneLogAvgCombo[x]\n",
    "    residual = actualScore - predictedScore\n",
    "    wlsResidualsTaxonLogGeneLogAvgCombo.append(residual)\n",
    "    \n",
    "plt.scatter(np.array(wlsPredictedTaxonLogGeneLogAvgCombo), np.array(wlsResidualsTaxonLogGeneLogAvgCombo))\n",
    "plt.title('Residuals: Log(Taxon Size) + Log(Gene Size) vs. Average Combined Score (WLS Multiple Regression)')\n",
    "plt.xlabel('Predicted')\n",
    "plt.ylabel('Residual')"
   ]
  },
  {
   "cell_type": "code",
   "execution_count": null,
   "metadata": {
    "collapsed": true
   },
   "outputs": [],
   "source": []
  },
  {
   "cell_type": "code",
   "execution_count": null,
   "metadata": {
    "collapsed": true
   },
   "outputs": [],
   "source": []
  }
 ],
 "metadata": {
  "kernelspec": {
   "display_name": "Python 3",
   "language": "python",
   "name": "python3"
  },
  "language_info": {
   "codemirror_mode": {
    "name": "ipython",
    "version": 3
   },
   "file_extension": ".py",
   "mimetype": "text/x-python",
   "name": "python",
   "nbconvert_exporter": "python",
   "pygments_lexer": "ipython3",
   "version": "3.6.5"
  }
 },
 "nbformat": 4,
 "nbformat_minor": 2
}
