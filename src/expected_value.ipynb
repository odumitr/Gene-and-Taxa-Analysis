{
 "cells": [
  {
   "cell_type": "code",
   "execution_count": 3,
   "metadata": {},
   "outputs": [],
   "source": [
    "import pandas as pd\n",
    "import numpy as np"
   ]
  },
  {
   "cell_type": "markdown",
   "metadata": {},
   "source": [
    "# Load Data\n",
    "Compute expected value."
   ]
  },
  {
   "cell_type": "code",
   "execution_count": 4,
   "metadata": {},
   "outputs": [
    {
     "name": "stdout",
     "output_type": "stream",
     "text": [
      "689\n",
      "17593\n"
     ]
    }
   ],
   "source": [
    "original_data = pd.read_csv(\"../../data/real_data/Scores_Sizes_z_p_values.txt\", sep=\"\\t\", header=0, \n",
    "                    low_memory=True, memory_map=True, float_precision='round_trip')\n",
    "\n",
    "#keep only columns of interest for current code\n",
    "no_unique_taxon = original_data['Query Profile'].nunique()\n",
    "# no_unique_gene = original_data['Corpus Profile'].nunique()\n",
    "# print(no_unique_taxon)\n",
    "# print(no_unique_gene)\n",
    "original_data['e_values'] = [no_unique_taxon*p_value for p_value\n",
    "                             in original_data['p_values']]\n",
    "original_data.to_csv(\"../../data/real_data/Scores_Sizes_expected_values.txt\", index=False, \n",
    "              sep=\"\\t\", float_format='%.17f')"
   ]
  }
 ],
 "metadata": {
  "kernelspec": {
   "display_name": "Python 3",
   "language": "python",
   "name": "python3"
  },
  "language_info": {
   "codemirror_mode": {
    "name": "ipython",
    "version": 3
   },
   "file_extension": ".py",
   "mimetype": "text/x-python",
   "name": "python",
   "nbconvert_exporter": "python",
   "pygments_lexer": "ipython3",
   "version": "3.6.5"
  }
 },
 "nbformat": 4,
 "nbformat_minor": 2
}
